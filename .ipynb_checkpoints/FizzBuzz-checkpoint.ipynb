{
 "cells": [
  {
   "cell_type": "markdown",
   "metadata": {},
   "source": [
    "# FizzBuzz\n",
    "\n",
    "Write a program that prints the numbers from 1 to 20. But for multipes of three print \"Fizz\" instead of the number and for multiples of five print \"Buzz\". For numbers which are multiples of both three and five print \"FizzBuzz\"."
   ]
  },
  {
   "cell_type": "code",
   "execution_count": 35,
   "metadata": {},
   "outputs": [
    {
     "name": "stdout",
     "output_type": "stream",
     "text": [
      "1\n",
      "2\n",
      "Fizz\n",
      "4\n",
      "Buzz\n",
      "Fizz\n",
      "7\n",
      "8\n",
      "Fizz\n",
      "Buzz\n",
      "11\n",
      "Fizz\n",
      "13\n",
      "14\n",
      "FizzBuzz\n",
      "16\n",
      "17\n",
      "Fizz\n",
      "19\n",
      "Buzz\n"
     ]
    }
   ],
   "source": [
    "def fizzlist():\n",
    "\n",
    "    range_list = range(1,21)\n",
    "    \n",
    "    for number in range_list:\n",
    "        if number % 3 == 0 and number % 5 == 0:\n",
    "            print ('FizzBuzz')\n",
    "        elif number % 3 == 0:\n",
    "            print('Fizz')\n",
    "        elif number % 5 ==0:\n",
    "            print('Buzz')\n",
    "        else:\n",
    "            print(number)\n",
    "        \n",
    "fizzlist()\n",
    "\n",
    "\n",
    "\n",
    "#     for number in list_range:\n",
    "#         if number % 3 == 0:\n",
    "#             number = Fizz\n",
    "#             fizz_list.append(number)\n",
    "#         elif number % 5 == 0:\n",
    "#             number = Buzz\n",
    "#             fizz_list.append(number)\n",
    "#         else: \n",
    "#             fizz_list.append(number)"
   ]
  }
 ],
 "metadata": {
  "kernelspec": {
   "display_name": "Python 3",
   "language": "python",
   "name": "python3"
  },
  "language_info": {
   "codemirror_mode": {
    "name": "ipython",
    "version": 3
   },
   "file_extension": ".py",
   "mimetype": "text/x-python",
   "name": "python",
   "nbconvert_exporter": "python",
   "pygments_lexer": "ipython3",
   "version": "3.7.2"
  }
 },
 "nbformat": 4,
 "nbformat_minor": 2
}
